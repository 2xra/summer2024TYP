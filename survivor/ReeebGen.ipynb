{
 "cells": [
  {
   "cell_type": "code",
   "execution_count": 1,
   "metadata": {},
   "outputs": [],
   "source": [
    "import pandas as pd\n",
    "import math\n",
    "import numpy as np\n",
    "import numpy.random as rand"
   ]
  },
  {
   "cell_type": "code",
   "execution_count": 2,
   "metadata": {},
   "outputs": [],
   "source": [
    "sample_person = (1,5,6,2,True,True)\n",
    "#(ID,AGE,AVERAGE,SKILL,POOL,ACTIVE)\n",
    "skillsig = 1\n",
    "unskillsig = 2\n",
    "def genret(agent):\n",
    "    if agent[5]:\n",
    "        if agent[4]:\n",
    "            manreturn = rand.normal(agent[4], skillsig)\n",
    "        else:\n",
    "            manreturn = rand.normal(agent[4],unskillsig)\n",
    "        newave = (agent[2]*(agent[1]-1)+manreturn)/agent[1]\n",
    "        return newave\n",
    "    else:\n",
    "        pass    "
   ]
  },
  {
   "cell_type": "code",
   "execution_count": 20,
   "metadata": {},
   "outputs": [
    {
     "data": {
      "text/plain": [
       "5.018735641712897"
      ]
     },
     "execution_count": 20,
     "metadata": {},
     "output_type": "execute_result"
    }
   ],
   "source": [
    "genret(sample_person)"
   ]
  }
 ],
 "metadata": {
  "kernelspec": {
   "display_name": "Python 3",
   "language": "python",
   "name": "python3"
  },
  "language_info": {
   "codemirror_mode": {
    "name": "ipython",
    "version": 3
   },
   "file_extension": ".py",
   "mimetype": "text/x-python",
   "name": "python",
   "nbconvert_exporter": "python",
   "pygments_lexer": "ipython3",
   "version": "3.10.11"
  }
 },
 "nbformat": 4,
 "nbformat_minor": 2
}
